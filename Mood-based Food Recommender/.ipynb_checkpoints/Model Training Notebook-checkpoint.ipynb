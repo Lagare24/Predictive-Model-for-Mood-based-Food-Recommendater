{
 "cells": [
  {
   "cell_type": "code",
   "execution_count": 60,
   "id": "81982391",
   "metadata": {},
   "outputs": [],
   "source": [
    "import pandas as pd\n",
    "import numpy as np\n",
    "from sklearn.model_selection import train_test_split, cross_val_score, GridSearchCV\n",
    "from sklearn.feature_extraction.text import TfidfVectorizer\n",
    "from sklearn.ensemble import RandomForestClassifier, GradientBoostingClassifier\n",
    "from sklearn.svm import SVC\n",
    "from sklearn.linear_model import LogisticRegression\n",
    "from sklearn.metrics import classification_report, accuracy_score\n",
    "from sklearn.preprocessing import OneHotEncoder\n",
    "import joblib\n",
    "import matplotlib.pyplot as plt\n",
    "import seaborn as sns\n",
    "from wordcloud import WordCloud\n",
    "from sklearn import metrics\n",
    "\n",
    "pd.set_option('display.max_columns', None)\n",
    "pd.set_option('display.max_rows', None)"
   ]
  },
  {
   "cell_type": "code",
   "execution_count": 61,
   "id": "6cd62ef9",
   "metadata": {},
   "outputs": [],
   "source": [
    "df = pd.read_csv(\"food_choices.csv\")\n",
    "selected_columns = ['comfort_food', 'comfort_food_reasons', 'Gender', 'cook', 'employment']\n",
    "df = df[selected_columns]\n"
   ]
  },
  {
   "cell_type": "code",
   "execution_count": 62,
   "id": "0e9a68f6",
   "metadata": {},
   "outputs": [
    {
     "name": "stdout",
     "output_type": "stream",
     "text": [
      "Missing values after handling:\n",
      " comfort_food            0\n",
      "comfort_food_reasons    0\n",
      "Gender                  0\n",
      "cook                    0\n",
      "employment              0\n",
      "dtype: int64\n"
     ]
    }
   ],
   "source": [
    "df['comfort_food'].fillna('unknown', inplace=True)\n",
    "df['comfort_food_reasons'].fillna('unknown', inplace=True)\n",
    "mode_coded = df['cook'].mode()[0]\n",
    "df['cook'].fillna(mode_coded, inplace=True)\n",
    "mode_coded = df['Gender'].mode()[0]\n",
    "df['Gender'].fillna(mode_coded, inplace=True)\n",
    "mode_coded = df['employment'].mode()[0]\n",
    "df['employment'].fillna(mode_coded, inplace=True)\n",
    "\n",
    "missing_values = df.isnull().sum()\n",
    "print(\"Missing values after handling:\\n\", missing_values)"
   ]
  },
  {
   "cell_type": "code",
   "execution_count": 63,
   "id": "d568e10a",
   "metadata": {},
   "outputs": [],
   "source": [
    "def categorize_food(food):\n",
    "    food = food.lower()\n",
    "    if any(keyword in food for keyword in ['fruit', 'vegetable', 'grapes', 'carrots', 'broccoli', 'tomato soup', 'spaghetti squash', 'carrots', 'plantain chips', 'almonds', 'watermelon', 'cucumber', 'fritos']):\n",
    "        return 'Fruit and Vegetables'\n",
    "    elif any(keyword in food for keyword in ['pizza', 'pasta', 'spaghetti', 'noodles', 'rice', 'potatoes', 'bagels', 'fries', 'taco', 'sandwich', 'hot dog', 'burrito', 'sub', 'macaroni and cheese', 'lasagna', 'mashed potatoes', 'spaghetti squash', 'stuffed peppers', 'meatball sub', 'chicken tikka masala', 'chicken noodle soup', 'chicken pot pie']):\n",
    "        return 'Starchy food'\n",
    "    elif any(keyword in food for keyword in ['milk', 'cheese', 'yogurt', 'ice cream', 'mozzarella sticks', 'cottage cheese', 'cheesecake', 'frozen yogurt']):\n",
    "        return 'Dairy'\n",
    "    elif any(keyword in food for keyword in ['chicken', 'beef', 'pork', 'fish', 'egg', 'turkey', 'meatball', 'sausage', 'fried chicken', 'grilled chicken', 'chicken fingers', 'beef jerky', 'steak']):\n",
    "        return 'Protein'\n",
    "    elif any(keyword in food for keyword in ['chips', 'fries', 'chocolate', 'cake', 'cookie', 'brownie', 'candy', 'soda', 'donut', 'peanut butter', 'burgers', 'garlic bread', 'popcorn', 'pretzels', 'chicken wings', 'doughnut', 'chocolate bar', 'twizzlers', 'chocolate brownie', 'macaroons', 'truffles', 'french fries', 'slim jims', 'chicken curry', 'chocolate chipotle', 'pop', 'mac n cheese', 'rice', 'pizza', 'cheeseburger', 'chicken nuggets', 'peanut butter sandwich', 'mac and cheese', 'cheese and crackers', 'protein bar', 'chex mix', 'cheez-its', 'chicken fingers', 'chips and cheese', 'chips and dip', 'fruit snacks', 'doritos']):\n",
    "        return 'Fat'\n",
    "    else:\n",
    "        return 'Others'"
   ]
  },
  {
   "cell_type": "code",
   "execution_count": 64,
   "id": "36016c15",
   "metadata": {},
   "outputs": [],
   "source": [
    "df['food_group'] = df['comfort_food'].apply(categorize_food)"
   ]
  },
  {
   "cell_type": "code",
   "execution_count": 65,
   "id": "0c17fc7f",
   "metadata": {},
   "outputs": [],
   "source": [
    "def map_reasons_to_mood(reasons):\n",
    "    reason_to_mood = {\n",
    "        'stress': 'stress',\n",
    "        'anxiety': 'anxiety',\n",
    "        'stress': 'anxiety',\n",
    "        'anxiety': 'stress',\n",
    "        'boredom': 'boredom',\n",
    "        'sadness': 'sadness',\n",
    "        'happiness': 'happiness',\n",
    "        'celebration': 'celebration',\n",
    "        'happiness': 'celebration',\n",
    "        'celebration': 'happiness',\n",
    "        'other': 'neutral',\n",
    "        'none': 'neutral',\n",
    "        'unknown': 'neutral'\n",
    "    }\n",
    "    \n",
    "    reasons_list = [r.strip().lower() for r in reasons.split(',')]\n",
    "    \n",
    "    mood_categories = [reason_to_mood.get(reason, 'neutral') for reason in reasons_list]\n",
    "    \n",
    "    return mood_categories"
   ]
  },
  {
   "cell_type": "code",
   "execution_count": 66,
   "id": "fec352a6",
   "metadata": {},
   "outputs": [],
   "source": [
    "df['mood_category'] = df['comfort_food_reasons'].apply(map_reasons_to_mood)"
   ]
  },
  {
   "cell_type": "code",
   "execution_count": 69,
   "id": "ec8e7cc4",
   "metadata": {},
   "outputs": [],
   "source": [
    "df_exploded = df.explode('mood_category')\n",
    "X = df_exploded[['mood_category', 'Gender', 'cook', 'employment']]\n",
    "y = df_exploded['food_group']"
   ]
  },
  {
   "cell_type": "code",
   "execution_count": null,
   "id": "c0b5d39f",
   "metadata": {},
   "outputs": [],
   "source": [
    "ohe = OneHotEncoder()\n",
    "encoded_features = ohe.fit_transform(df[['mood_category', 'Gender', 'cook', 'employment']]).toarray()"
   ]
  },
  {
   "cell_type": "code",
   "execution_count": 28,
   "id": "35be2344",
   "metadata": {},
   "outputs": [],
   "source": [
    "X_train, X_test, y_train, y_test = train_test_split(X, y, test_size=0.2, random_state=42)"
   ]
  },
  {
   "cell_type": "code",
   "execution_count": 16,
   "id": "72834bf0",
   "metadata": {},
   "outputs": [],
   "source": [
    "param_grid_gb = {\n",
    "    'n_estimators': [100, 200],\n",
    "    'learning_rate': [0.05, 0.1],\n",
    "    'max_depth': [3, 4]\n",
    "}\n",
    "\n",
    "param_grid_lr = {\n",
    "    'C': [0.1, 1.0, 10.0],\n",
    "    'solver': ['lbfgs', 'liblinear']\n",
    "}\n",
    "\n",
    "classifiers = {\n",
    "    \"LogisticRegression\": GridSearchCV(LogisticRegression(max_iter=1000), param_grid_lr, cv=5),\n",
    "    \"GradientBoosting\": GridSearchCV(GradientBoostingClassifier(), param_grid_gb, cv=5)\n",
    "}"
   ]
  },
  {
   "cell_type": "code",
   "execution_count": 17,
   "id": "1fd03f6f",
   "metadata": {},
   "outputs": [
    {
     "name": "stderr",
     "output_type": "stream",
     "text": [
      "C:\\Users\\Windows 10\\AppData\\Roaming\\Python\\Python311\\site-packages\\sklearn\\model_selection\\_split.py:776: UserWarning: The least populated class in y has only 3 members, which is less than n_splits=5.\n",
      "  warnings.warn(\n",
      "C:\\Users\\Windows 10\\AppData\\Roaming\\Python\\Python311\\site-packages\\sklearn\\metrics\\_classification.py:1517: UndefinedMetricWarning: Precision is ill-defined and being set to 0.0 in labels with no predicted samples. Use `zero_division` parameter to control this behavior.\n",
      "  _warn_prf(average, modifier, f\"{metric.capitalize()} is\", len(result))\n",
      "C:\\Users\\Windows 10\\AppData\\Roaming\\Python\\Python311\\site-packages\\sklearn\\metrics\\_classification.py:1517: UndefinedMetricWarning: Precision is ill-defined and being set to 0.0 in labels with no predicted samples. Use `zero_division` parameter to control this behavior.\n",
      "  _warn_prf(average, modifier, f\"{metric.capitalize()} is\", len(result))\n",
      "C:\\Users\\Windows 10\\AppData\\Roaming\\Python\\Python311\\site-packages\\sklearn\\metrics\\_classification.py:1517: UndefinedMetricWarning: Precision is ill-defined and being set to 0.0 in labels with no predicted samples. Use `zero_division` parameter to control this behavior.\n",
      "  _warn_prf(average, modifier, f\"{metric.capitalize()} is\", len(result))\n",
      "C:\\Users\\Windows 10\\AppData\\Roaming\\Python\\Python311\\site-packages\\sklearn\\model_selection\\_split.py:776: UserWarning: The least populated class in y has only 3 members, which is less than n_splits=5.\n",
      "  warnings.warn(\n"
     ]
    },
    {
     "name": "stdout",
     "output_type": "stream",
     "text": [
      "Classification Report for LogisticRegression:\n",
      "                        precision    recall  f1-score   support\n",
      "\n",
      "              boredom       0.50      0.67      0.57         9\n",
      "happiness/celebration       0.00      0.00      0.00         2\n",
      "              neutral       0.38      0.38      0.38         8\n",
      "              sadness       1.00      0.33      0.50         3\n",
      "       stress/anxiety       0.75      1.00      0.86         3\n",
      "\n",
      "             accuracy                           0.52        25\n",
      "            macro avg       0.53      0.47      0.46        25\n",
      "         weighted avg       0.51      0.52      0.49        25\n",
      "\n",
      "Accuracy for LogisticRegression: 0.52\n",
      "\n",
      "Saved LogisticRegression model to LogisticRegression_model.pkl\n",
      "Classification Report for GradientBoosting:\n",
      "                        precision    recall  f1-score   support\n",
      "\n",
      "              boredom       0.55      0.67      0.60         9\n",
      "happiness/celebration       1.00      0.50      0.67         2\n",
      "              neutral       0.50      0.50      0.50         8\n",
      "              sadness       1.00      0.33      0.50         3\n",
      "       stress/anxiety       0.75      1.00      0.86         3\n",
      "\n",
      "             accuracy                           0.60        25\n",
      "            macro avg       0.76      0.60      0.62        25\n",
      "         weighted avg       0.65      0.60      0.59        25\n",
      "\n",
      "Accuracy for GradientBoosting: 0.6\n",
      "\n",
      "Saved GradientBoosting model to GradientBoosting_model.pkl\n"
     ]
    }
   ],
   "source": [
    "for name, clf in classifiers.items():\n",
    "    clf.fit(X_train, y_train)\n",
    "    y_pred = clf.predict(X_test)\n",
    "    report = classification_report(y_test, y_pred)\n",
    "    print(f\"Classification Report for {name}:\\n\", report)\n",
    "    accuracy = accuracy_score(y_test, y_pred)\n",
    "    print(f\"Accuracy for {name}: {accuracy}\\n\")\n",
    "\n",
    "    model_filename = f\"{name}_model.pkl\"\n",
    "    joblib.dump(clf, model_filename)\n",
    "    print(f\"Saved {name} model to {model_filename}\")"
   ]
  },
  {
   "cell_type": "code",
   "execution_count": null,
   "id": "8f91c2a1",
   "metadata": {},
   "outputs": [],
   "source": [
    "preprocessed_file = \"preprocessed_data.csv\"\n",
    "df.to_csv(preprocessed_file, index=False)\n",
    "print(f\"Preprocessed data saved to {preprocessed_file}\")"
   ]
  },
  {
   "cell_type": "code",
   "execution_count": null,
   "id": "8facd522",
   "metadata": {},
   "outputs": [],
   "source": [
    "training_artifacts = {\n",
    "    \"preprocessed_data_file\": preprocessed_file,\n",
    "    \"one_hot_encoder\": ohe,\n",
    "#     \"tfidf_vectorizer\": vectorizer,\n",
    "    \"models\": classifiers\n",
    "}"
   ]
  },
  {
   "cell_type": "code",
   "execution_count": null,
   "id": "4f489f28",
   "metadata": {},
   "outputs": [],
   "source": [
    "joblib.dump(training_artifacts, \"training_artifacts.joblib\")\n",
    "print(\"Training artifacts saved\")"
   ]
  },
  {
   "cell_type": "code",
   "execution_count": null,
   "id": "d5c04294",
   "metadata": {},
   "outputs": [],
   "source": [
    "joblib.dump(ohe, 'one_hot_encoder.pkl')\n",
    "# joblib.dump(vectorizer, 'tfidf_vectorizer.pkl')\n",
    "print(\"Saved preprocessors to one_hot_encoder.pkl\")"
   ]
  },
  {
   "cell_type": "code",
   "execution_count": null,
   "id": "7be85c31",
   "metadata": {},
   "outputs": [],
   "source": [
    "wordcloud = WordCloud(width=800, height=400, background_color='white').generate(' '.join(df['comfort_food_reasons']))\n",
    "plt.figure(figsize=(10, 6))\n",
    "plt.imshow(wordcloud, interpolation='bilinear')\n",
    "plt.title('Word Cloud of Comfort Food Reasons')\n",
    "plt.axis('off')\n",
    "plt.show()"
   ]
  },
  {
   "cell_type": "code",
   "execution_count": null,
   "id": "18714a0b",
   "metadata": {},
   "outputs": [],
   "source": [
    "df_exploded = df.explode('mood_category')\n",
    "\n",
    "plt.figure(figsize=(8, 6))\n",
    "sns.countplot(y='mood_category', data=df_exploded, order=df_exploded['mood_category'].value_counts().index, palette='viridis')\n",
    "plt.title('Distribution of Mood Categories')\n",
    "plt.xlabel('Count')\n",
    "plt.ylabel('Mood Category')\n",
    "plt.show()"
   ]
  },
  {
   "cell_type": "code",
   "execution_count": null,
   "id": "1333949f",
   "metadata": {},
   "outputs": [],
   "source": [
    "gender_mapping = {1: 'Female', 2: 'Male'}\n",
    "df['Gender'] = df['Gender'].map(gender_mapping)\n",
    "\n",
    "plt.figure(figsize=(6, 6))\n",
    "df['Gender'].value_counts().plot(kind='pie', autopct='%1.1f%%', colors=['lightcoral', 'skyblue'], explode=(0.1, 0), startangle=140)\n",
    "plt.title('Gender Distribution')\n",
    "plt.ylabel('')\n",
    "plt.axis('equal')\n",
    "plt.show()"
   ]
  },
  {
   "cell_type": "code",
   "execution_count": null,
   "id": "239dad2b",
   "metadata": {},
   "outputs": [],
   "source": [
    "plt.figure(figsize=(8, 6))\n",
    "sns.boxplot(x='Gender', y='comfort_food_reasons_coded', data=df, palette='Set2')\n",
    "plt.title('Comfort Food Frequency by Gender')\n",
    "plt.xlabel('Gender')\n",
    "plt.ylabel('Comfort Food Frequency (Coded)')\n",
    "plt.show()"
   ]
  },
  {
   "cell_type": "code",
   "execution_count": null,
   "id": "30935133",
   "metadata": {},
   "outputs": [],
   "source": [
    "df_exploded = df.explode('mood_category')\n",
    "\n",
    "correlation_matrix = df_exploded.groupby(['food_group', 'mood_category']).size().unstack(fill_value=0)\n",
    "\n",
    "plt.figure(figsize=(10, 8))\n",
    "sns.heatmap(correlation_matrix, annot=True, cmap='coolwarm', fmt='d', linewidths=0.5)\n",
    "plt.title('Correlation between Food Groups and Mood Categories')\n",
    "plt.xlabel('Mood Category')\n",
    "plt.ylabel('Food Group')\n",
    "plt.show()"
   ]
  },
  {
   "cell_type": "code",
   "execution_count": null,
   "id": "3bfa42e6",
   "metadata": {},
   "outputs": [],
   "source": [
    "for name, clf in classifiers.items():\n",
    "    scores = cross_val_score(clf, X, y, cv=5)\n",
    "    print(f\"Cross-Validation Scores for {name}: {scores}\")\n",
    "    print(f\"Mean Cross-Validation Score for {name}: {scores.mean()}\\n\")"
   ]
  },
  {
   "cell_type": "code",
   "execution_count": null,
   "id": "443e6407",
   "metadata": {},
   "outputs": [],
   "source": []
  }
 ],
 "metadata": {
  "kernelspec": {
   "display_name": "Python 3 (ipykernel)",
   "language": "python",
   "name": "python3"
  },
  "language_info": {
   "codemirror_mode": {
    "name": "ipython",
    "version": 3
   },
   "file_extension": ".py",
   "mimetype": "text/x-python",
   "name": "python",
   "nbconvert_exporter": "python",
   "pygments_lexer": "ipython3",
   "version": "3.11.4"
  }
 },
 "nbformat": 4,
 "nbformat_minor": 5
}
