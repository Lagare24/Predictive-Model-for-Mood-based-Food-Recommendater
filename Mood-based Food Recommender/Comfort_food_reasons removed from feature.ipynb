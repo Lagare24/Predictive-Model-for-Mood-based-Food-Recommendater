{
 "cells": [
  {
   "cell_type": "code",
   "execution_count": 7,
   "id": "895a57f7",
   "metadata": {},
   "outputs": [],
   "source": [
    "import pandas as pd\n",
    "import numpy as np\n",
    "from sklearn.model_selection import train_test_split, cross_val_score, GridSearchCV\n",
    "from sklearn.ensemble import GradientBoostingClassifier\n",
    "from sklearn.linear_model import LogisticRegression\n",
    "from sklearn.metrics import classification_report, accuracy_score\n",
    "from sklearn.preprocessing import OneHotEncoder\n",
    "import joblib\n",
    "import matplotlib.pyplot as plt\n",
    "import seaborn as sns\n",
    "from wordcloud import WordCloud\n",
    "\n",
    "pd.set_option('display.max_columns', None)\n",
    "pd.set_option('display.max_rows', None)"
   ]
  },
  {
   "cell_type": "code",
   "execution_count": 8,
   "id": "c971e8b1",
   "metadata": {},
   "outputs": [],
   "source": [
    "df = pd.read_csv(\"food_choices.csv\")\n",
    "selected_columns = ['comfort_food', 'comfort_food_reasons', 'comfort_food_reasons_coded', 'Gender']\n",
    "df = df[selected_columns]"
   ]
  },
  {
   "cell_type": "code",
   "execution_count": 9,
   "id": "9f255ea7",
   "metadata": {},
   "outputs": [
    {
     "name": "stdout",
     "output_type": "stream",
     "text": [
      "Missing values after handling:\n",
      " comfort_food                  0\n",
      "comfort_food_reasons          0\n",
      "comfort_food_reasons_coded    0\n",
      "Gender                        0\n",
      "dtype: int64\n"
     ]
    }
   ],
   "source": [
    "df['comfort_food'].fillna('unknown', inplace=True)\n",
    "mode_coded = df['comfort_food_reasons_coded'].mode()[0]\n",
    "df['comfort_food_reasons'].fillna('unknown', inplace=True)\n",
    "df['comfort_food_reasons_coded'].fillna(mode_coded, inplace=True)\n",
    "df['Gender'].fillna('Unknown', inplace=True)\n",
    "\n",
    "missing_values = df.isnull().sum()\n",
    "print(\"Missing values after handling:\\n\", missing_values)"
   ]
  },
  {
   "cell_type": "code",
   "execution_count": 10,
   "id": "6919de95",
   "metadata": {},
   "outputs": [],
   "source": [
    "def categorize_food(food):\n",
    "    food = food.lower()\n",
    "    if any(keyword in food for keyword in ['fruit', 'vegetable', 'grapes', 'carrots', 'broccoli', 'tomato soup', 'spaghetti squash', 'carrots', 'plantain chips', 'almonds', 'watermelon', 'cucumber', 'fritos']):\n",
    "        return 'Fruit and Vegetables'\n",
    "    elif any(keyword in food for keyword in ['pizza', 'pasta', 'spaghetti', 'noodles', 'rice', 'potatoes', 'bagels', 'fries', 'taco', 'sandwich', 'hot dog', 'burrito', 'sub', 'macaroni and cheese', 'lasagna', 'mashed potatoes', 'spaghetti squash', 'stuffed peppers', 'meatball sub', 'chicken tikka masala', 'chicken noodle soup', 'chicken pot pie']):\n",
    "        return 'Starchy food'\n",
    "    elif any(keyword in food for keyword in ['milk', 'cheese', 'yogurt', 'ice cream', 'mozzarella sticks', 'cottage cheese', 'cheesecake', 'frozen yogurt']):\n",
    "        return 'Dairy'\n",
    "    elif any(keyword in food for keyword in ['chicken', 'beef', 'pork', 'fish', 'egg', 'turkey', 'meatball', 'sausage', 'fried chicken', 'grilled chicken', 'chicken fingers', 'beef jerky', 'steak']):\n",
    "        return 'Protein'\n",
    "    elif any(keyword in food for keyword in ['chips', 'fries', 'chocolate', 'cake', 'cookie', 'brownie', 'candy', 'soda', 'donut', 'peanut butter', 'burgers', 'garlic bread', 'popcorn', 'pretzels', 'chicken wings', 'doughnut', 'chocolate bar', 'twizzlers', 'chocolate brownie', 'macaroons', 'truffles', 'french fries', 'slim jims', 'chicken curry', 'chocolate chipotle', 'pop', 'mac n cheese', 'rice', 'pizza', 'cheeseburger', 'chicken nuggets', 'peanut butter sandwich', 'mac and cheese', 'cheese and crackers', 'protein bar', 'chex mix', 'cheez-its', 'chicken fingers', 'chips and cheese', 'chips and dip', 'fruit snacks', 'doritos']):\n",
    "        return 'Fat'\n",
    "    else:\n",
    "        return 'Others'"
   ]
  },
  {
   "cell_type": "code",
   "execution_count": 11,
   "id": "9f71ff5e",
   "metadata": {},
   "outputs": [],
   "source": [
    "df['food_group'] = df['comfort_food'].apply(categorize_food)\n",
    "\n",
    "ohe = OneHotEncoder()\n",
    "encoded_features = ohe.fit_transform(df[['Gender', 'food_group']]).toarray()"
   ]
  },
  {
   "cell_type": "code",
   "execution_count": 12,
   "id": "80258c33",
   "metadata": {},
   "outputs": [],
   "source": [
    "def map_reasons_to_mood(reasons):\n",
    "    reason_to_mood = {\n",
    "        'stress': 'stress/anxiety',\n",
    "        'anxiety': 'stress/anxiety',\n",
    "        'boredom': 'boredom',\n",
    "        'sadness': 'sadness',\n",
    "        'happiness': 'happiness/celebration',\n",
    "        'celebration': 'happiness/celebration',\n",
    "        'other': 'neutral',\n",
    "        'none': 'neutral',\n",
    "        'unknown': 'neutral'\n",
    "    }\n",
    "    \n",
    "    reasons_list = [r.strip().lower() for r in reasons.split(',')]\n",
    "    \n",
    "    mood_categories = [reason_to_mood.get(reason, 'neutral') for reason in reasons_list]\n",
    "    \n",
    "    return mood_categories"
   ]
  },
  {
   "cell_type": "code",
   "execution_count": null,
   "id": "22c24cef",
   "metadata": {},
   "outputs": [],
   "source": [
    "df['mood_category'] = df['comfort_food_reasons'].apply(map_reasons_to_mood)\n",
    "df"
   ]
  },
  {
   "cell_type": "code",
   "execution_count": null,
   "id": "f701d571",
   "metadata": {},
   "outputs": [],
   "source": [
    "X = encoded_features\n",
    "y = df['mood_category']"
   ]
  },
  {
   "cell_type": "code",
   "execution_count": null,
   "id": "8fab71e1",
   "metadata": {},
   "outputs": [],
   "source": [
    "X_train, X_test, y_train, y_test = train_test_split(X, y, test_size=0.2, random_state=42)\n"
   ]
  },
  {
   "cell_type": "code",
   "execution_count": null,
   "id": "6e328cf1",
   "metadata": {},
   "outputs": [],
   "source": [
    "param_grid_gb = {\n",
    "    'n_estimators': [100, 200],\n",
    "    'learning_rate': [0.05, 0.1],\n",
    "    'max_depth': [3, 4]\n",
    "}"
   ]
  },
  {
   "cell_type": "code",
   "execution_count": null,
   "id": "35e9e20f",
   "metadata": {},
   "outputs": [],
   "source": [
    "param_grid_lr = {\n",
    "    'C': [0.1, 1.0, 10.0],\n",
    "    'solver': ['lbfgs', 'liblinear']\n",
    "}"
   ]
  },
  {
   "cell_type": "code",
   "execution_count": null,
   "id": "ba31a761",
   "metadata": {},
   "outputs": [],
   "source": [
    "classifiers = {\n",
    "    \"LogisticRegression\": GridSearchCV(LogisticRegression(max_iter=1000), param_grid_lr, cv=5),\n",
    "    \"GradientBoosting\": GridSearchCV(GradientBoostingClassifier(), param_grid_gb, cv=5)\n",
    "}\n",
    "df"
   ]
  },
  {
   "cell_type": "code",
   "execution_count": null,
   "id": "1b89ce43",
   "metadata": {},
   "outputs": [],
   "source": [
    "for name, clf in classifiers.items():\n",
    "    clf.fit(X_train, y_train)\n",
    "    y_pred = clf.predict(X_test)\n",
    "    report = classification_report(y_test, y_pred)\n",
    "    print(f\"Classification Report for {name}:\\n\", report)\n",
    "    accuracy = accuracy_score(y_test, y_pred)\n",
    "    print(f\"Accuracy for {name}: {accuracy}\\n\")\n",
    "\n",
    "    # Save the trained model\n",
    "    model_filename = f\"{name}_model.pkl\"\n",
    "    joblib.dump(clf, model_filename)\n",
    "    print(f\"Saved {name} model to {model_filename}\")"
   ]
  },
  {
   "cell_type": "code",
   "execution_count": null,
   "id": "d2c254b8",
   "metadata": {},
   "outputs": [],
   "source": [
    "training_artifacts = {\n",
    "    \"one_hot_encoder\": ohe,\n",
    "    \"models\": classifiers\n",
    "}"
   ]
  },
  {
   "cell_type": "code",
   "execution_count": null,
   "id": "98a91431",
   "metadata": {},
   "outputs": [],
   "source": [
    "joblib.dump(training_artifacts, \"training_artifacts.joblib\")\n",
    "print(\"Training artifacts saved\")"
   ]
  },
  {
   "cell_type": "code",
   "execution_count": null,
   "id": "b55c3779",
   "metadata": {},
   "outputs": [],
   "source": [
    "comfort_food_reasons_text = df['comfort_food_reasons'].astype(str).values"
   ]
  },
  {
   "cell_type": "code",
   "execution_count": null,
   "id": "0cc438dd",
   "metadata": {},
   "outputs": [],
   "source": [
    "wordcloud = WordCloud(width=800, height=400, background_color='white').generate(' '.join(comfort_food_reasons_text))\n",
    "plt.figure(figsize=(10, 6))\n",
    "plt.imshow(wordcloud, interpolation='bilinear')\n",
    "plt.title('Word Cloud of Comfort Food Reasons')\n",
    "plt.axis('off')\n",
    "plt.show()"
   ]
  },
  {
   "cell_type": "code",
   "execution_count": null,
   "id": "98cbc7f1",
   "metadata": {},
   "outputs": [],
   "source": [
    "df_exploded = df.explode('mood_category')\n",
    "plt.figure(figsize=(8, 6))\n",
    "sns.countplot(y='mood_category', data=df_exploded, order=df_exploded['mood_category'].value_counts().index, palette='viridis')\n",
    "plt.title('Distribution of Mood Categories')\n",
    "plt.xlabel('Count')\n",
    "plt.ylabel('Mood Category')\n",
    "plt.show()\n"
   ]
  },
  {
   "cell_type": "code",
   "execution_count": null,
   "id": "486c48ae",
   "metadata": {},
   "outputs": [],
   "source": [
    "gender_mapping = {1: 'Female', 2: 'Male'}\n",
    "df['Gender'] = df['Gender'].map(gender_mapping)\n",
    "\n",
    "plt.figure(figsize=(6, 6))\n",
    "df['Gender'].value_counts().plot(kind='pie', autopct='%1.1f%%', colors=['skyblue', 'lightcoral'], explode=(0.1, 0), startangle=140)\n",
    "plt.title('Gender Distribution')\n",
    "plt.ylabel('')\n",
    "plt.axis('equal')\n",
    "plt.show()"
   ]
  },
  {
   "cell_type": "code",
   "execution_count": null,
   "id": "77bdca9f",
   "metadata": {},
   "outputs": [],
   "source": [
    "plt.figure(figsize=(8, 6))\n",
    "sns.boxplot(x='Gender', y='comfort_food_reasons_coded', data=df, palette='Set2')\n",
    "plt.title('Comfort Food Frequency by Gender')\n",
    "plt.xlabel('Gender')\n",
    "plt.ylabel('Comfort Food Frequency (Coded)')\n",
    "plt.show()"
   ]
  },
  {
   "cell_type": "code",
   "execution_count": null,
   "id": "b2bcbc0c",
   "metadata": {},
   "outputs": [],
   "source": [
    "correlation_matrix = df_exploded.groupby(['food_group', 'mood_category']).size().unstack(fill_value=0)\n",
    "plt.figure(figsize=(10, 8))\n",
    "sns.heatmap(correlation_matrix, annot=True, cmap='coolwarm', fmt='d', linewidths=0.5)\n",
    "plt.title('Correlation between Food Groups and Mood Categories')\n",
    "plt.xlabel('Mood Category')\n",
    "plt.ylabel('Food Group')\n",
    "plt.show()\n"
   ]
  },
  {
   "cell_type": "code",
   "execution_count": null,
   "id": "31150304",
   "metadata": {},
   "outputs": [],
   "source": [
    "for name, clf in classifiers.items():\n",
    "    scores = cross_val_score(clf, X, y, cv=5)\n",
    "    print(f\"Cross-Validation Scores for {name}: {scores}\")\n",
    "    print(f\"Mean Cross-Validation Score for {name}: {scores.mean()}\\n\")"
   ]
  },
  {
   "cell_type": "code",
   "execution_count": null,
   "id": "60c0ae9d",
   "metadata": {},
   "outputs": [],
   "source": []
  }
 ],
 "metadata": {
  "kernelspec": {
   "display_name": "Python 3 (ipykernel)",
   "language": "python",
   "name": "python3"
  },
  "language_info": {
   "codemirror_mode": {
    "name": "ipython",
    "version": 3
   },
   "file_extension": ".py",
   "mimetype": "text/x-python",
   "name": "python",
   "nbconvert_exporter": "python",
   "pygments_lexer": "ipython3",
   "version": "3.11.4"
  }
 },
 "nbformat": 4,
 "nbformat_minor": 5
}
