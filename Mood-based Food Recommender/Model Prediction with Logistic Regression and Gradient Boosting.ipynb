{
 "cells": [
  {
   "cell_type": "markdown",
   "id": "35748195",
   "metadata": {},
   "source": [
    "# Importing necessary packages"
   ]
  },
  {
   "cell_type": "code",
   "execution_count": 1,
   "id": "87631c8c",
   "metadata": {},
   "outputs": [],
   "source": [
    "import pandas as pd\n",
    "import joblib\n",
    "\n",
    "pd.set_option('display.max_columns', None)\n",
    "pd.set_option('display.max_rows', None)"
   ]
  },
  {
   "cell_type": "markdown",
   "id": "6658b499",
   "metadata": {},
   "source": [
    "# Load model"
   ]
  },
  {
   "cell_type": "code",
   "execution_count": 2,
   "id": "53fa11cf",
   "metadata": {},
   "outputs": [],
   "source": [
    "def load_model_and_predict(Gender, mood_category, employment, model_name):\n",
    "    # Load the OneHotEncoder\n",
    "    encoder_filename = \"one_hot_encoder.pkl\"\n",
    "    ohe = joblib.load(encoder_filename)\n",
    "\n",
    "    model_filename = f\"{model_name}_model.pkl\"\n",
    "    model = joblib.load(model_filename)\n",
    "\n",
    "    new_data = pd.DataFrame({\n",
    "        'Gender': [Gender],\n",
    "        'mood_category': [mood_category],\n",
    "        'employment': [employment]\n",
    "    })\n",
    "\n",
    "    new_data_encoded = ohe.transform(new_data)\n",
    "\n",
    "    predicted_food_group = model.predict(new_data_encoded)\n",
    "\n",
    "    return predicted_food_group[0]"
   ]
  },
  {
   "cell_type": "markdown",
   "id": "74e997c4",
   "metadata": {},
   "source": [
    "# Create new input"
   ]
  },
  {
   "cell_type": "code",
   "execution_count": 59,
   "id": "b1145aeb",
   "metadata": {},
   "outputs": [],
   "source": [
    "Gender = 2 #1 for Female, 2 for Male \n",
    "mood_category = 'happiness' #stress/anxiety, boredom, sadness, happiness/celebration, neutral\n",
    "employment = 2  #1 for employed, 2 for unemployed\n",
    "model_name = 'LogisticRegression' # Choose between GradientBoosting and LogisticRegression"
   ]
  },
  {
   "cell_type": "markdown",
   "id": "b0f2f37a",
   "metadata": {},
   "source": [
    "# Show prediction"
   ]
  },
  {
   "cell_type": "code",
   "execution_count": 60,
   "id": "1f4299d1",
   "metadata": {},
   "outputs": [
    {
     "name": "stdout",
     "output_type": "stream",
     "text": [
      "The predicted food group for the mood input is: Starchy food\n"
     ]
    }
   ],
   "source": [
    "predicted_food_group = load_model_and_predict(Gender, mood_category, employment, model_name)\n",
    "print(f\"The predicted food group for the mood input is: {predicted_food_group}\")"
   ]
  }
 ],
 "metadata": {
  "kernelspec": {
   "display_name": "Python 3 (ipykernel)",
   "language": "python",
   "name": "python3"
  },
  "language_info": {
   "codemirror_mode": {
    "name": "ipython",
    "version": 3
   },
   "file_extension": ".py",
   "mimetype": "text/x-python",
   "name": "python",
   "nbconvert_exporter": "python",
   "pygments_lexer": "ipython3",
   "version": "3.11.4"
  }
 },
 "nbformat": 4,
 "nbformat_minor": 5
}
